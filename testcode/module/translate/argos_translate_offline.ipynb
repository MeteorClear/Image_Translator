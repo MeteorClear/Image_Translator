{
 "cells": [
  {
   "attachments": {},
   "cell_type": "markdown",
   "metadata": {},
   "source": [
    "!pip install argostranslate<br>\n",
    "!pip install ipywidgets"
   ]
  },
  {
   "attachments": {},
   "cell_type": "markdown",
   "metadata": {},
   "source": [
    "https://github.com/argosopentech/argos-translate"
   ]
  },
  {
   "attachments": {},
   "cell_type": "markdown",
   "metadata": {},
   "source": [
    "https://argos-translate.readthedocs.io/en/latest/py-modindex.html"
   ]
  },
  {
   "cell_type": "code",
   "execution_count": 44,
   "metadata": {},
   "outputs": [],
   "source": [
    "import argostranslate\n",
    "import argostranslate.package\n",
    "import argostranslate.translate"
   ]
  },
  {
   "cell_type": "code",
   "execution_count": 45,
   "metadata": {},
   "outputs": [],
   "source": [
    "from_code = \"en\"\n",
    "to_code = \"ko\""
   ]
  },
  {
   "cell_type": "code",
   "execution_count": 46,
   "metadata": {},
   "outputs": [
    {
     "name": "stdout",
     "output_type": "stream",
     "text": [
      "[Arabic -> English, Azerbaijani -> English, Catalan -> English, Chinese -> English, Czech -> English, Danish -> English, Dutch -> English, English -> Arabic, English -> Azerbaijani, English -> Catalan, English -> Chinese, English -> Czech, English -> Danish, English -> Dutch, English -> Esperanto, English -> Finnish, English -> French, English -> German, English -> Greek, English -> Hebrew, English -> Hindi, English -> Hungarian, English -> Indonesian, English -> Irish, English -> Italian, English -> Japanese, English -> Korean, English -> Persian, English -> Polish, English -> Portuguese, English -> Russian, English -> Slovak, English -> Spanish, English -> Swedish, English -> Turkish, English -> Ukranian, Esperanto -> English, Finnish -> English, French -> English, German -> English, Greek -> English, Hebrew -> English, Hindi -> English, Hungarian -> English, Indonesian -> English, Irish -> English, Italian -> English, Japanese -> English, Korean -> English, Persian -> English, Polish -> English, Portuguese -> English, Russian -> English, Slovak -> English, Spanish -> English, Swedish -> English, Turkish -> English, Ukranian -> English]\n",
      "English → Korean Korean → English\n"
     ]
    }
   ],
   "source": [
    "argostranslate.package.update_package_index()\n",
    "available_packages = argostranslate.package.get_available_packages()\n",
    "print(available_packages)\n",
    "print(available_packages[26], available_packages[48])\n",
    "#for idx, package in enumerate(available_packages): print(idx, package)"
   ]
  },
  {
   "cell_type": "code",
   "execution_count": 66,
   "metadata": {},
   "outputs": [
    {
     "name": "stdout",
     "output_type": "stream",
     "text": [
      "<class 'argostranslate.translate.Language'>\n"
     ]
    }
   ],
   "source": [
    "installed_languages = argostranslate.translate.get_installed_languages()\n",
    "print(type(installed_languages[1]))"
   ]
  },
  {
   "cell_type": "code",
   "execution_count": 73,
   "metadata": {},
   "outputs": [
    {
     "name": "stdout",
     "output_type": "stream",
     "text": [
      "English\n"
     ]
    },
    {
     "data": {
      "text/plain": [
       "True"
      ]
     },
     "execution_count": 73,
     "metadata": {},
     "output_type": "execute_result"
    }
   ],
   "source": [
    "in_lang = list(map(str, installed_languages))\n",
    "print(in_lang[0])\n",
    "not('English' in in_lang and False)"
   ]
  },
  {
   "cell_type": "code",
   "execution_count": 48,
   "metadata": {},
   "outputs": [],
   "source": [
    "#argostranslate.package.install_from_path(available_packages[26].download())\n",
    "#argostranslate.package.install_from_path(available_packages[48].download())"
   ]
  },
  {
   "cell_type": "code",
   "execution_count": 49,
   "metadata": {},
   "outputs": [],
   "source": [
    "#argostranslate.argospm.install_all_packages( )"
   ]
  },
  {
   "cell_type": "code",
   "execution_count": 50,
   "metadata": {},
   "outputs": [
    {
     "name": "stdout",
     "output_type": "stream",
     "text": [
      "Korean\n"
     ]
    }
   ],
   "source": [
    "lang = argostranslate.translate.get_language_from_code('ko')\n",
    "print(lang)"
   ]
  },
  {
   "cell_type": "code",
   "execution_count": 51,
   "metadata": {},
   "outputs": [
    {
     "name": "stdout",
     "output_type": "stream",
     "text": [
      "안녕하세요.\n"
     ]
    }
   ],
   "source": [
    "translatedText = argostranslate.translate.translate(\"Hello World\", from_code, to_code)\n",
    "print(translatedText)"
   ]
  },
  {
   "cell_type": "code",
   "execution_count": 52,
   "metadata": {},
   "outputs": [
    {
     "name": "stdout",
     "output_type": "stream",
     "text": [
      "Hello? This sentence is a temporary example sentence! As the sentence you want to test the performance of the translator, it is used to check the translation.\n",
      "안녕하세요? 이 문장은 임시 예제 문장입니다! 번역가의 성능을 테스트하는 문장이며 번역을 확인하는 데 사용됩니다.\n"
     ]
    }
   ],
   "source": [
    "text_k = '안녕하세요? 이 문장은 임시 예제 문장입니다! 번역기의 성능을 시험하려는 문장으로, 번역 확인을 위해 사용됩니다.'\n",
    "text_e = 'hello? This sentence is a temporary example sentence! It is a sentence to test the performance of the translator and is used to check the translation.'\n",
    "translatedText = argostranslate.translate.translate(text_k, 'ko', 'en')\n",
    "print(translatedText)\n",
    "translatedText = argostranslate.translate.translate(text_e, 'en', 'ko')\n",
    "print(translatedText)"
   ]
  },
  {
   "cell_type": "code",
   "execution_count": 74,
   "metadata": {},
   "outputs": [],
   "source": [
    "def vaild_argostranslate_check(package_num=None, all=False):\n",
    "    argostranslate.package.update_package_index()\n",
    "    available_packages = argostranslate.package.get_available_packages()\n",
    "    \n",
    "    if all:\n",
    "        argostranslate.argospm.install_all_packages()\n",
    "\n",
    "    elif package_num != None:\n",
    "        argostranslate.package.install_from_path(available_packages[package_num].download())\n",
    "\n",
    "    else:\n",
    "        installed_languages = argostranslate.translate.get_installed_languages()\n",
    "        install_lang = list(map(str, installed_languages))\n",
    "\n",
    "        if not('English' in install_lang and 'Korean' in install_lang):\n",
    "            argostranslate.package.install_from_path(available_packages[26].download())\n",
    "            argostranslate.package.install_from_path(available_packages[48].download())\n",
    "\n",
    "    "
   ]
  },
  {
   "cell_type": "code",
   "execution_count": 76,
   "metadata": {},
   "outputs": [],
   "source": [
    "def text_translate_offline(text, dest, src, detail=0):\n",
    "    vaild_argostranslate_check()\n",
    "    \n",
    "    trans_text = argostranslate.translate.translate(text, src, dest)\n",
    "    \n",
    "    if detail > 1:\n",
    "        return (trans_text, text, dest, src, None, None)\n",
    "    elif detail == 1:\n",
    "        return (trans_text, text, dest, src)\n",
    "    else:\n",
    "        return trans_text"
   ]
  },
  {
   "cell_type": "code",
   "execution_count": 75,
   "metadata": {},
   "outputs": [],
   "source": [
    "vaild_argostranslate_check()"
   ]
  },
  {
   "cell_type": "code",
   "execution_count": 77,
   "metadata": {},
   "outputs": [
    {
     "data": {
      "text/plain": [
       "'안녕하세요? 이 문장은 임시 예제 문장입니다! 번역가의 성능을 테스트하는 문장이며 번역을 확인하는 데 사용됩니다.'"
      ]
     },
     "execution_count": 77,
     "metadata": {},
     "output_type": "execute_result"
    }
   ],
   "source": [
    "text_translate_offline(text_e, src='en', dest='ko')"
   ]
  },
  {
   "cell_type": "code",
   "execution_count": null,
   "metadata": {},
   "outputs": [],
   "source": []
  }
 ],
 "metadata": {
  "kernelspec": {
   "display_name": "olv",
   "language": "python",
   "name": "python3"
  },
  "language_info": {
   "codemirror_mode": {
    "name": "ipython",
    "version": 3
   },
   "file_extension": ".py",
   "mimetype": "text/x-python",
   "name": "python",
   "nbconvert_exporter": "python",
   "pygments_lexer": "ipython3",
   "version": "3.10.9"
  },
  "orig_nbformat": 4
 },
 "nbformat": 4,
 "nbformat_minor": 2
}
