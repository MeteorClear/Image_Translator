{
 "cells": [
  {
   "attachments": {},
   "cell_type": "markdown",
   "metadata": {},
   "source": [
    "https://pypi.org/project/googletrans/"
   ]
  },
  {
   "attachments": {},
   "cell_type": "markdown",
   "metadata": {},
   "source": [
    "!pip install googletrans==4.0.0-rc1"
   ]
  },
  {
   "cell_type": "code",
   "execution_count": 16,
   "metadata": {},
   "outputs": [],
   "source": [
    "import urllib.request\n",
    "import googletrans\n",
    "from googletrans import Translator"
   ]
  },
  {
   "cell_type": "code",
   "execution_count": 11,
   "metadata": {},
   "outputs": [],
   "source": [
    "is_online = False"
   ]
  },
  {
   "cell_type": "code",
   "execution_count": 12,
   "metadata": {},
   "outputs": [
    {
     "name": "stdout",
     "output_type": "stream",
     "text": [
      "HTTP status : 200 - Successful responses\n",
      "web request confirm, internet is connected\n"
     ]
    }
   ],
   "source": [
    "try:\n",
    "    _response = urllib.request.urlopen(\"https://www.google.com\")\n",
    "    _r_s = _response.status\n",
    "    if 100 <= _r_s <= 199:\n",
    "        is_online = True\n",
    "        print(f\"HTTP status : {_r_s} - Information responses\")\n",
    "        print(\"web request confirm, internet is connected\")\n",
    "    elif 200 <= _r_s <= 299:\n",
    "        is_online = True\n",
    "        print(f\"HTTP status : {_r_s} - Successful responses\")\n",
    "        print(\"web request confirm, internet is connected\")\n",
    "    elif 300 <= _r_s <= 399:\n",
    "        is_online = True\n",
    "        print(f\"HTTP status : {_r_s} - Redirection messages\")\n",
    "        print(\"web request confirm, internet is connected\")\n",
    "    elif 400 <= _r_s <= 499:\n",
    "        is_online = False\n",
    "        print(f\"HTTP status : {_r_s} - Client error responses\")\n",
    "        print(\"web request fail, change offline mode\")\n",
    "    elif 500 <= _r_s <= 599:\n",
    "        is_online = False\n",
    "        print(f\"HTTP status : {_r_s} - Server error responses\")\n",
    "        print(\"web request fail, change offline mode\")\n",
    "    else:\n",
    "        is_online = False\n",
    "        print(\"Unkown status, requst fail, change offline mode\")\n",
    "except:\n",
    "    is_online = False\n",
    "    print(\"web request fail, change offline mode\")"
   ]
  },
  {
   "attachments": {},
   "cell_type": "markdown",
   "metadata": {},
   "source": [
    "Translator().translate()<br>\n",
    "translate(text='some sequence~', dest='target lang', src='origin lang')<br>\n",
    "return object<br>\n",
    "obj.text, obj.dest, obj.src, obj.pronunciation obj.extra_data<br>\n",
    "obj.extra_data['confidence'], obj.extra_data['parts'], obj.extra_data['origin_pronunciation'], obj.extra_data['parsed']<br>\n",
    "lang code : ISO 639-1<br>"
   ]
  },
  {
   "cell_type": "code",
   "execution_count": 18,
   "metadata": {},
   "outputs": [
    {
     "ename": "AttributeError",
     "evalue": "'Translator' object has no attribute 'raise_Exception'",
     "output_type": "error",
     "traceback": [
      "\u001b[1;31m---------------------------------------------------------------------------\u001b[0m",
      "\u001b[1;31mAttributeError\u001b[0m                            Traceback (most recent call last)",
      "Cell \u001b[1;32mIn[18], line 2\u001b[0m\n\u001b[0;32m      1\u001b[0m translator \u001b[39m=\u001b[39m Translator()\n\u001b[1;32m----> 2\u001b[0m translated \u001b[39m=\u001b[39m translator\u001b[39m.\u001b[39;49mtranslate(text\u001b[39m=\u001b[39;49m\u001b[39m'\u001b[39;49m\u001b[39m안녕하세요? 이 문장은 임시 예제 문장입니다! 번역기의 성능을 시험하려는 문장으로, 번역 확인을 위해 사용됩니다.\u001b[39;49m\u001b[39m'\u001b[39;49m, dest\u001b[39m=\u001b[39;49m\u001b[39m'\u001b[39;49m\u001b[39men\u001b[39;49m\u001b[39m'\u001b[39;49m, src\u001b[39m=\u001b[39;49m\u001b[39m'\u001b[39;49m\u001b[39mko\u001b[39;49m\u001b[39m'\u001b[39;49m)\n\u001b[0;32m      3\u001b[0m \u001b[39mprint\u001b[39m(translated)\n\u001b[0;32m      4\u001b[0m \u001b[39mprint\u001b[39m(translated\u001b[39m.\u001b[39msrc)\n",
      "File \u001b[1;32mc:\\Users\\PC\\.conda\\envs\\olv\\lib\\site-packages\\googletrans\\client.py:194\u001b[0m, in \u001b[0;36mTranslator.translate\u001b[1;34m(self, text, dest, src)\u001b[0m\n\u001b[0;32m    191\u001b[0m         \u001b[39mraise\u001b[39;00m \u001b[39mValueError\u001b[39;00m(\u001b[39m'\u001b[39m\u001b[39minvalid destination language\u001b[39m\u001b[39m'\u001b[39m)\n\u001b[0;32m    193\u001b[0m origin \u001b[39m=\u001b[39m text\n\u001b[1;32m--> 194\u001b[0m data, response \u001b[39m=\u001b[39m \u001b[39mself\u001b[39;49m\u001b[39m.\u001b[39;49m_translate(text, dest, src)\n\u001b[0;32m    196\u001b[0m token_found \u001b[39m=\u001b[39m \u001b[39mFalse\u001b[39;00m\n\u001b[0;32m    197\u001b[0m square_bracket_counts \u001b[39m=\u001b[39m [\u001b[39m0\u001b[39m, \u001b[39m0\u001b[39m]\n",
      "File \u001b[1;32mc:\\Users\\PC\\.conda\\envs\\olv\\lib\\site-packages\\googletrans\\client.py:122\u001b[0m, in \u001b[0;36mTranslator._translate\u001b[1;34m(self, text, dest, src)\u001b[0m\n\u001b[0;32m    112\u001b[0m params \u001b[39m=\u001b[39m {\n\u001b[0;32m    113\u001b[0m     \u001b[39m'\u001b[39m\u001b[39mrpcids\u001b[39m\u001b[39m'\u001b[39m: RPC_ID,\n\u001b[0;32m    114\u001b[0m     \u001b[39m'\u001b[39m\u001b[39mbl\u001b[39m\u001b[39m'\u001b[39m: \u001b[39m'\u001b[39m\u001b[39mboq_translate-webserver_20201207.13_p0\u001b[39m\u001b[39m'\u001b[39m,\n\u001b[1;32m   (...)\u001b[0m\n\u001b[0;32m    118\u001b[0m     \u001b[39m'\u001b[39m\u001b[39mrt\u001b[39m\u001b[39m'\u001b[39m: \u001b[39m'\u001b[39m\u001b[39mc\u001b[39m\u001b[39m'\u001b[39m,\n\u001b[0;32m    119\u001b[0m }\n\u001b[0;32m    120\u001b[0m r \u001b[39m=\u001b[39m \u001b[39mself\u001b[39m\u001b[39m.\u001b[39mclient\u001b[39m.\u001b[39mpost(url, params\u001b[39m=\u001b[39mparams, data\u001b[39m=\u001b[39mdata)\n\u001b[1;32m--> 122\u001b[0m \u001b[39mif\u001b[39;00m r\u001b[39m.\u001b[39mstatus_code \u001b[39m!=\u001b[39m \u001b[39m200\u001b[39m \u001b[39mand\u001b[39;00m \u001b[39mself\u001b[39;49m\u001b[39m.\u001b[39;49mraise_Exception:\n\u001b[0;32m    123\u001b[0m     \u001b[39mraise\u001b[39;00m \u001b[39mException\u001b[39;00m(\u001b[39m'\u001b[39m\u001b[39mUnexpected status code \u001b[39m\u001b[39m\"\u001b[39m\u001b[39m{}\u001b[39;00m\u001b[39m\"\u001b[39m\u001b[39m from \u001b[39m\u001b[39m{}\u001b[39;00m\u001b[39m'\u001b[39m\u001b[39m.\u001b[39mformat(\n\u001b[0;32m    124\u001b[0m         r\u001b[39m.\u001b[39mstatus_code, \u001b[39mself\u001b[39m\u001b[39m.\u001b[39mservice_urls))\n\u001b[0;32m    126\u001b[0m \u001b[39mreturn\u001b[39;00m r\u001b[39m.\u001b[39mtext, r\n",
      "\u001b[1;31mAttributeError\u001b[0m: 'Translator' object has no attribute 'raise_Exception'"
     ]
    }
   ],
   "source": [
    "translator = Translator()\n",
    "translated = translator.translate(text='안녕하세요? 이 문장은 임시 예제 문장입니다! 번역기의 성능을 시험하려는 문장으로, 번역 확인을 위해 사용됩니다.', dest='en', src='ko')\n",
    "print(translated)\n",
    "print(translated.src)\n",
    "print(translated.dest)\n",
    "print(translated.text)\n",
    "print(translated._response, type(translated._response), str(translated._response)[11:14])\n",
    "print(translated.origin)\n",
    "print(translated.pronunciation)\n",
    "print(translated.extra_data)\n",
    "for i in translated.extra_data:\n",
    "    print(i, translated.extra_data[i])\n"
   ]
  },
  {
   "cell_type": "code",
   "execution_count": 14,
   "metadata": {},
   "outputs": [
    {
     "ename": "AttributeError",
     "evalue": "'Translator' object has no attribute 'raise_Exception'",
     "output_type": "error",
     "traceback": [
      "\u001b[1;31m---------------------------------------------------------------------------\u001b[0m",
      "\u001b[1;31mAttributeError\u001b[0m                            Traceback (most recent call last)",
      "Cell \u001b[1;32mIn[14], line 2\u001b[0m\n\u001b[0;32m      1\u001b[0m translator \u001b[39m=\u001b[39m Translator()\n\u001b[1;32m----> 2\u001b[0m translated \u001b[39m=\u001b[39m translator\u001b[39m.\u001b[39;49mdetect(\u001b[39m'\u001b[39;49m\u001b[39m안녕하세요? 이 문장은 임시 예제 문장입니다! 번역기의 성능을 시험하려는 문장으로, 번역 확인을 위해 사용됩니다.\u001b[39;49m\u001b[39m'\u001b[39;49m)\n\u001b[0;32m      3\u001b[0m \u001b[39mprint\u001b[39m(translated)\n\u001b[0;32m      4\u001b[0m \u001b[39mprint\u001b[39m(translated\u001b[39m.\u001b[39m_response)\n",
      "File \u001b[1;32mc:\\Users\\PC\\.conda\\envs\\olv\\lib\\site-packages\\googletrans\\client.py:369\u001b[0m, in \u001b[0;36mTranslator.detect\u001b[1;34m(self, text)\u001b[0m\n\u001b[0;32m    368\u001b[0m \u001b[39mdef\u001b[39;00m \u001b[39mdetect\u001b[39m(\u001b[39mself\u001b[39m, text: \u001b[39mstr\u001b[39m):\n\u001b[1;32m--> 369\u001b[0m     translated \u001b[39m=\u001b[39m \u001b[39mself\u001b[39;49m\u001b[39m.\u001b[39;49mtranslate(text, src\u001b[39m=\u001b[39;49m\u001b[39m'\u001b[39;49m\u001b[39mauto\u001b[39;49m\u001b[39m'\u001b[39;49m, dest\u001b[39m=\u001b[39;49m\u001b[39m'\u001b[39;49m\u001b[39men\u001b[39;49m\u001b[39m'\u001b[39;49m)\n\u001b[0;32m    370\u001b[0m     result \u001b[39m=\u001b[39m Detected(lang\u001b[39m=\u001b[39mtranslated\u001b[39m.\u001b[39msrc, confidence\u001b[39m=\u001b[39mtranslated\u001b[39m.\u001b[39mextra_data\u001b[39m.\u001b[39mget(\u001b[39m'\u001b[39m\u001b[39mconfidence\u001b[39m\u001b[39m'\u001b[39m, \u001b[39mNone\u001b[39;00m), response\u001b[39m=\u001b[39mtranslated\u001b[39m.\u001b[39m_response)\n\u001b[0;32m    371\u001b[0m     \u001b[39mreturn\u001b[39;00m result\n",
      "File \u001b[1;32mc:\\Users\\PC\\.conda\\envs\\olv\\lib\\site-packages\\googletrans\\client.py:194\u001b[0m, in \u001b[0;36mTranslator.translate\u001b[1;34m(self, text, dest, src)\u001b[0m\n\u001b[0;32m    191\u001b[0m         \u001b[39mraise\u001b[39;00m \u001b[39mValueError\u001b[39;00m(\u001b[39m'\u001b[39m\u001b[39minvalid destination language\u001b[39m\u001b[39m'\u001b[39m)\n\u001b[0;32m    193\u001b[0m origin \u001b[39m=\u001b[39m text\n\u001b[1;32m--> 194\u001b[0m data, response \u001b[39m=\u001b[39m \u001b[39mself\u001b[39;49m\u001b[39m.\u001b[39;49m_translate(text, dest, src)\n\u001b[0;32m    196\u001b[0m token_found \u001b[39m=\u001b[39m \u001b[39mFalse\u001b[39;00m\n\u001b[0;32m    197\u001b[0m square_bracket_counts \u001b[39m=\u001b[39m [\u001b[39m0\u001b[39m, \u001b[39m0\u001b[39m]\n",
      "File \u001b[1;32mc:\\Users\\PC\\.conda\\envs\\olv\\lib\\site-packages\\googletrans\\client.py:122\u001b[0m, in \u001b[0;36mTranslator._translate\u001b[1;34m(self, text, dest, src)\u001b[0m\n\u001b[0;32m    112\u001b[0m params \u001b[39m=\u001b[39m {\n\u001b[0;32m    113\u001b[0m     \u001b[39m'\u001b[39m\u001b[39mrpcids\u001b[39m\u001b[39m'\u001b[39m: RPC_ID,\n\u001b[0;32m    114\u001b[0m     \u001b[39m'\u001b[39m\u001b[39mbl\u001b[39m\u001b[39m'\u001b[39m: \u001b[39m'\u001b[39m\u001b[39mboq_translate-webserver_20201207.13_p0\u001b[39m\u001b[39m'\u001b[39m,\n\u001b[1;32m   (...)\u001b[0m\n\u001b[0;32m    118\u001b[0m     \u001b[39m'\u001b[39m\u001b[39mrt\u001b[39m\u001b[39m'\u001b[39m: \u001b[39m'\u001b[39m\u001b[39mc\u001b[39m\u001b[39m'\u001b[39m,\n\u001b[0;32m    119\u001b[0m }\n\u001b[0;32m    120\u001b[0m r \u001b[39m=\u001b[39m \u001b[39mself\u001b[39m\u001b[39m.\u001b[39mclient\u001b[39m.\u001b[39mpost(url, params\u001b[39m=\u001b[39mparams, data\u001b[39m=\u001b[39mdata)\n\u001b[1;32m--> 122\u001b[0m \u001b[39mif\u001b[39;00m r\u001b[39m.\u001b[39mstatus_code \u001b[39m!=\u001b[39m \u001b[39m200\u001b[39m \u001b[39mand\u001b[39;00m \u001b[39mself\u001b[39;49m\u001b[39m.\u001b[39;49mraise_Exception:\n\u001b[0;32m    123\u001b[0m     \u001b[39mraise\u001b[39;00m \u001b[39mException\u001b[39;00m(\u001b[39m'\u001b[39m\u001b[39mUnexpected status code \u001b[39m\u001b[39m\"\u001b[39m\u001b[39m{}\u001b[39;00m\u001b[39m\"\u001b[39m\u001b[39m from \u001b[39m\u001b[39m{}\u001b[39;00m\u001b[39m'\u001b[39m\u001b[39m.\u001b[39mformat(\n\u001b[0;32m    124\u001b[0m         r\u001b[39m.\u001b[39mstatus_code, \u001b[39mself\u001b[39m\u001b[39m.\u001b[39mservice_urls))\n\u001b[0;32m    126\u001b[0m \u001b[39mreturn\u001b[39;00m r\u001b[39m.\u001b[39mtext, r\n",
      "\u001b[1;31mAttributeError\u001b[0m: 'Translator' object has no attribute 'raise_Exception'"
     ]
    }
   ],
   "source": [
    "translator = Translator()\n",
    "translated = translator.detect('안녕하세요? 이 문장은 임시 예제 문장입니다! 번역기의 성능을 시험하려는 문장으로, 번역 확인을 위해 사용됩니다.')\n",
    "print(translated)\n",
    "print(translated._response)\n",
    "print(translated.confidence)\n",
    "print(translated.lang)"
   ]
  },
  {
   "cell_type": "code",
   "execution_count": null,
   "metadata": {},
   "outputs": [],
   "source": [
    "def test_fnc(t):\n",
    "    return\n",
    "test_fnc('ae')"
   ]
  },
  {
   "cell_type": "code",
   "execution_count": null,
   "metadata": {},
   "outputs": [],
   "source": []
  },
  {
   "cell_type": "code",
   "execution_count": null,
   "metadata": {},
   "outputs": [],
   "source": [
    "def text_translate(text, dest, src=None, online=True, detail=0):\n",
    "    \n",
    "    if online:\n",
    "        translator = Translator()\n",
    "    else:\n",
    "        raise Exception(\"This version does not support offline\")\n",
    "\n",
    "    if src == None:\n",
    "        translated = translator.detect(text)\n",
    "        src = translated.lang\n",
    "    \n",
    "    translated = translator.translate(text=text, dest=dest, src=src)\n",
    "\n",
    "    result = translated._response\n",
    "    if str(result)[11:14] == '200':\n",
    "        trans_text = translated.text\n",
    "        trans_pri = translated.pronunciation\n",
    "        origin_pri = translated.extra_data['origin_pronunciation']\n",
    "    else:\n",
    "        raise Exception(\"HTTP response fail\")\n",
    "\n",
    "    if detail > 1:\n",
    "        return (trans_text, text, dest, src, trans_pri, origin_pri)\n",
    "    elif detail == 1:\n",
    "        return (trans_text, text, dest, src)\n",
    "    else:\n",
    "        return trans_text"
   ]
  },
  {
   "cell_type": "code",
   "execution_count": null,
   "metadata": {},
   "outputs": [
    {
     "name": "stdout",
     "output_type": "stream",
     "text": [
      "hello?This sentence is a temporary example sentence!It is a sentence to test the performance of the translator and is used to check the translation.\n",
      "안녕하세요? 이 문장은 임시 예제 문장입니다! 번역기의 성능을 시험하려는 문장으로, 번역 확인을 위해 사용됩니다.\n"
     ]
    }
   ],
   "source": [
    "tt = '안녕하세요? 이 문장은 임시 예제 문장입니다! 번역기의 성능을 시험하려는 문장으로, 번역 확인을 위해 사용됩니다.'\n",
    "k = text_translate(tt, 'en')\n",
    "print(k)\n",
    "tk = 'hello?This sentence is a temporary example sentence!It is a sentence to test the performance of the translator and is used to check the translation.'\n",
    "k = text_translate(tt, 'ko')\n",
    "print(k)"
   ]
  },
  {
   "cell_type": "code",
   "execution_count": null,
   "metadata": {},
   "outputs": [
    {
     "name": "stdout",
     "output_type": "stream",
     "text": [
      "True\n",
      "hello?This sentence is a temporary example sentence!It is a sentence to test the performance of the translator and is used to check the translation.\n",
      "안녕하세요? 이 문장은 임시 예제 문장입니다! 번역기의 성능을 시험하려는 문장으로, 번역 확인을 위해 사용됩니다.\n"
     ]
    }
   ],
   "source": [
    "import translate_olv\n",
    "print(translate_olv.check_online())\n",
    "tk = '안녕하세요? 이 문장은 임시 예제 문장입니다! 번역기의 성능을 시험하려는 문장으로, 번역 확인을 위해 사용됩니다.'\n",
    "k = translate_olv.text_translate(tt, 'en')\n",
    "print(k)\n",
    "te = 'hello?This sentence is a temporary example sentence!It is a sentence to test the performance of the translator and is used to check the translation.'\n",
    "k = translate_olv.text_translate(tt, 'ko')\n",
    "print(k)"
   ]
  },
  {
   "cell_type": "code",
   "execution_count": null,
   "metadata": {},
   "outputs": [],
   "source": []
  }
 ],
 "metadata": {
  "kernelspec": {
   "display_name": "olv",
   "language": "python",
   "name": "python3"
  },
  "language_info": {
   "codemirror_mode": {
    "name": "ipython",
    "version": 3
   },
   "file_extension": ".py",
   "mimetype": "text/x-python",
   "name": "python",
   "nbconvert_exporter": "python",
   "pygments_lexer": "ipython3",
   "version": "3.10.9"
  },
  "orig_nbformat": 4
 },
 "nbformat": 4,
 "nbformat_minor": 2
}
