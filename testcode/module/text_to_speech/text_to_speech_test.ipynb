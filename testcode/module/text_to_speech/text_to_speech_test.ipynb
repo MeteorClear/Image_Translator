{
 "cells": [
  {
   "cell_type": "code",
   "execution_count": 39,
   "metadata": {},
   "outputs": [],
   "source": [
    "#!pip install gTTS\n",
    "#!pip install playsound\n",
    "#!pip install pygame"
   ]
  },
  {
   "cell_type": "code",
   "execution_count": 40,
   "metadata": {},
   "outputs": [],
   "source": [
    "from gtts import gTTS\n",
    "import pygame\n",
    "import time\n",
    "import os"
   ]
  },
  {
   "cell_type": "code",
   "execution_count": 41,
   "metadata": {},
   "outputs": [],
   "source": [
    "pygame.mixer.init()"
   ]
  },
  {
   "cell_type": "code",
   "execution_count": 42,
   "metadata": {},
   "outputs": [
    {
     "name": "stdout",
     "output_type": "stream",
     "text": [
      ".//tts_data//1697543322.mp3\n"
     ]
    }
   ],
   "source": [
    "base_path = \".//tts_data//\"\n",
    "base_extension =\".mp3\"\n",
    "file_name_adder = str(int(time.time()))\n",
    "tts_file_path = base_path + file_name_adder + base_extension\n",
    "print(tts_file_path)"
   ]
  },
  {
   "cell_type": "code",
   "execution_count": 43,
   "metadata": {},
   "outputs": [],
   "source": [
    "target_text = \"This is test sentence text for check gtts module working test\"\n",
    "target_lang = \"en\""
   ]
  },
  {
   "cell_type": "code",
   "execution_count": 44,
   "metadata": {},
   "outputs": [],
   "source": [
    "tts = gTTS(target_text, lang=target_lang)\n",
    "tts.save(tts_file_path)\n",
    "time.sleep(0.5)"
   ]
  },
  {
   "cell_type": "code",
   "execution_count": 45,
   "metadata": {},
   "outputs": [],
   "source": [
    "if os.path.isfile(tts_file_path):\n",
    "    pygame.mixer.music.load(tts_file_path)\n",
    "    pygame.mixer.music.play()\n",
    "else:\n",
    "    raise \"does not exist file\""
   ]
  }
 ],
 "metadata": {
  "kernelspec": {
   "display_name": "olv",
   "language": "python",
   "name": "python3"
  },
  "language_info": {
   "codemirror_mode": {
    "name": "ipython",
    "version": 3
   },
   "file_extension": ".py",
   "mimetype": "text/x-python",
   "name": "python",
   "nbconvert_exporter": "python",
   "pygments_lexer": "ipython3",
   "version": "3.10.9"
  }
 },
 "nbformat": 4,
 "nbformat_minor": 2
}
